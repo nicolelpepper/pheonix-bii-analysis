{
 "cells": [
  {
   "cell_type": "code",
   "execution_count": null,
   "id": "906cf797-c760-4178-9158-8624cfba6d59",
   "metadata": {},
   "outputs": [],
   "source": []
  },
  {
   "cell_type": "code",
   "execution_count": 2,
   "id": "78d14318-8e5e-4f03-9b7b-010223294421",
   "metadata": {
    "tags": []
   },
   "outputs": [],
   "source": [
    "# ---- Load libraries ----\n",
    "import pandas as pd\n",
    "import numpy as np\n",
    "import matplotlib.pyplot as plt\n",
    "import geopandas as gpd\n",
    "import rioxarray as rioxr\n",
    "from pystac_client import Client  # To access STAC catalogs\n",
    "import planetary_computer  # To sign items from the MPC STAC catalog \n",
    "from IPython.display import Image  # To nicely display images\n",
    "from geogif import gif\n",
    "from shapely.geometry import box\n",
    "import xarray as xr\n",
    "import os"
   ]
  },
  {
   "cell_type": "code",
   "execution_count": 11,
   "id": "8ceaafcb-6c17-439a-b5f2-336cbf5a9327",
   "metadata": {
    "tags": []
   },
   "outputs": [
    {
     "name": "stdout",
     "output_type": "stream",
     "text": [
      "Found 2 items matching the criteria.\n",
      "bii_2017_34.74464974521749_-115.38597824385106_cog\n",
      "bii_2020_34.74464974521749_-115.38597824385106_cog\n"
     ]
    }
   ],
   "source": [
    "# ----- Define Pheonix Study Area ------\n",
    "\n",
    "bbox = [-112.826843, 32.974108, -111.184387, 33.863574]\n",
    "\n",
    "# ----- Access MPC catalog ------\n",
    "\n",
    "# Access MPC catalog\n",
    "catalog = Client.open(\n",
    "    \"https://planetarycomputer.microsoft.com/api/stac/v1\",\n",
    "    modifier=planetary_computer.sign_inplace,\n",
    ")\n",
    "\n",
    "# Access MPC collections as a list\n",
    "catalog.get_collections()\n",
    "collections = list(catalog.get_collections())\n",
    "\n",
    "\n",
    "# Define temporal range for 2017 and 2020\n",
    "time_ranges = [\"2017-01-01/2017-12-31\", \"2020-01-01/2020-12-31\"]\n",
    "\n",
    "# Initialize an empty list to collect items\n",
    "items = []\n",
    "\n",
    "# Define for loop to iterate search for both time ranges\n",
    "for time_range in time_ranges:\n",
    "    search = catalog.search(\n",
    "        collections=[\"io-biodiversity\"],\n",
    "        bbox=bbox,\n",
    "        datetime=time_range\n",
    "    )\n",
    "    items.extend(list(search.get_items()))\n",
    "\n",
    "# Print summary of found items\n",
    "print(f\"Found {len(items)} items matching the criteria.\")\n",
    "\n",
    "# Print items\n",
    "for item in items:\n",
    "    print(item.id)"
   ]
  },
  {
   "cell_type": "code",
   "execution_count": null,
   "id": "2b399dee-a7f9-4717-ac11-863c4014e93f",
   "metadata": {},
   "outputs": [],
   "source": []
  }
 ],
 "metadata": {
  "kernelspec": {
   "display_name": "Anaconda 3 (EDS220)",
   "language": "python",
   "name": "eds220-env"
  },
  "language_info": {
   "codemirror_mode": {
    "name": "ipython",
    "version": 3
   },
   "file_extension": ".py",
   "mimetype": "text/x-python",
   "name": "python",
   "nbconvert_exporter": "python",
   "pygments_lexer": "ipython3",
   "version": "3.11.4"
  }
 },
 "nbformat": 4,
 "nbformat_minor": 5
}
