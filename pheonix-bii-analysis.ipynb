{
 "cells": [
  {
   "cell_type": "code",
   "execution_count": null,
   "id": "906cf797-c760-4178-9158-8624cfba6d59",
   "metadata": {},
   "outputs": [],
   "source": []
  },
  {
   "cell_type": "code",
   "execution_count": 2,
   "id": "78d14318-8e5e-4f03-9b7b-010223294421",
   "metadata": {
    "tags": []
   },
   "outputs": [],
   "source": [
    "# ---- Load libraries ----\n",
    "import pandas as pd\n",
    "import numpy as np\n",
    "import matplotlib.pyplot as plt\n",
    "import geopandas as gpd\n",
    "import rioxarray as rioxr\n",
    "from pystac_client import Client  # To access STAC catalogs\n",
    "import planetary_computer  # To sign items from the MPC STAC catalog \n",
    "from IPython.display import Image  # To nicely display images\n",
    "from geogif import gif\n",
    "from shapely.geometry import box\n",
    "import xarray as xr\n",
    "import os"
   ]
  },
  {
   "cell_type": "code",
   "execution_count": null,
   "id": "ac59a0bc-bc75-4c49-8158-924a3f2d64e1",
   "metadata": {},
   "outputs": [],
   "source": [
    "### Read in Project Data"
   ]
  },
  {
   "cell_type": "code",
   "execution_count": 71,
   "id": "273e9ea0-b1bd-4c02-bed6-0c356cdbf6cc",
   "metadata": {
    "tags": []
   },
   "outputs": [],
   "source": [
    "# ----- Read in Phenix Subdivision Boundary ------\n",
    "arizona_sds = gpd.read_file(\"data/tl_2020_04_cousub.shp\")\n",
    "\n",
    "phoenix = arizona_sds[arizona_sds['NAME'] == 'Phoenix']"
   ]
  },
  {
   "cell_type": "code",
   "execution_count": 11,
   "id": "8ceaafcb-6c17-439a-b5f2-336cbf5a9327",
   "metadata": {
    "tags": []
   },
   "outputs": [
    {
     "name": "stdout",
     "output_type": "stream",
     "text": [
      "Found 2 items matching the criteria.\n",
      "bii_2017_34.74464974521749_-115.38597824385106_cog\n",
      "bii_2020_34.74464974521749_-115.38597824385106_cog\n"
     ]
    }
   ],
   "source": [
    "# ----- Read in bii data ------\n",
    "\n",
    "# Define Pheonix bbox\n",
    "\n",
    "bbox = [-112.826843, 32.974108, -111.184387, 33.863574]\n",
    "\n",
    "# ----- Access MPC catalog ------\n",
    "\n",
    "# Access MPC catalog\n",
    "catalog = Client.open(\n",
    "    \"https://planetarycomputer.microsoft.com/api/stac/v1\",\n",
    "    modifier=planetary_computer.sign_inplace,\n",
    ")\n",
    "\n",
    "# Access MPC collections as a list\n",
    "catalog.get_collections()\n",
    "collections = list(catalog.get_collections())\n",
    "\n",
    "\n",
    "# Define temporal range for 2017 and 2020\n",
    "time_ranges = [\"2017-01-01/2017-12-31\", \"2020-01-01/2020-12-31\"]\n",
    "\n",
    "# Initialize an empty list to collect items\n",
    "items = []\n",
    "\n",
    "# Define for loop to iterate search for both time ranges\n",
    "for time_range in time_ranges:\n",
    "    search = catalog.search(\n",
    "        collections=[\"io-biodiversity\"],\n",
    "        bbox=bbox,\n",
    "        datetime=time_range\n",
    "    )\n",
    "    items.extend(list(search.get_items()))\n",
    "\n",
    "# Print summary of found items\n",
    "print(f\"Found {len(items)} items matching the criteria.\")\n",
    "\n",
    "# Print items\n",
    "for item in items:\n",
    "    print(item.id)"
   ]
  },
  {
   "cell_type": "markdown",
   "id": "52f58cc6-c80b-4ecd-80ef-63057aead019",
   "metadata": {},
   "source": [
    "### Explore preliminary data"
   ]
  },
  {
   "cell_type": "code",
   "execution_count": null,
   "id": "bf0726a6-97a2-4251-bc69-4664d39f8b74",
   "metadata": {},
   "outputs": [],
   "source": [
    "Explore Pheonix Subdivision"
   ]
  },
  {
   "cell_type": "code",
   "execution_count": 88,
   "id": "d324a4cd-f636-41ac-b827-3807ee9d8389",
   "metadata": {
    "tags": []
   },
   "outputs": [
    {
     "name": "stdout",
     "output_type": "stream",
     "text": [
      "The column names are for `pheonix` are: ['STATEFP', 'COUNTYFP', 'COUSUBFP', 'COUSUBNS', 'GEOID', 'NAME', 'NAMELSAD', 'LSAD', 'CLASSFP', 'MTFCC', 'CNECTAFP', 'NECTAFP', 'NCTADVFP', 'FUNCSTAT', 'ALAND', 'AWATER', 'INTPTLAT', 'INTPTLON', 'geometry']\n"
     ]
    }
   ],
   "source": [
    "print(\"The column names are for `pheonix` are:\", list(phoenix.columns))"
   ]
  },
  {
   "cell_type": "code",
   "execution_count": null,
   "id": "2b399dee-a7f9-4717-ac11-863c4014e93f",
   "metadata": {},
   "outputs": [],
   "source": [
    "# ---- Map Arizona Subdivisions ----\n",
    "\n",
    "# Set figure parameters\n",
    "fig, ax = plt.subplots(figsize=(5, 5))\n",
    "\n",
    "# Plot arizona subdivisions\n",
    "arizona_sds.plot(ax=ax, color='#003B4A', edgecolor='white', linewidth = 0.2)\n",
    "\n",
    "# Plot phoenix subdivision\n",
    "phoenix.plot(ax=ax, color='orange', edgecolor='white', linewidth = 0.2)\n",
    "\n",
    "# Remove axes\n",
    "ax.axis('off')\n",
    "\n",
    "# Add a title and display the plot\n",
    "plt.title(\"Arizona Subdivisions\", fontsize=16, color='#003B4A')\n",
    "plt.show()"
   ]
  },
  {
   "cell_type": "code",
   "execution_count": null,
   "id": "12d30de8-b45c-47d6-b0e4-d67b8c76a4ac",
   "metadata": {},
   "outputs": [],
   "source": [
    "# ----- Explore BII Data ------\n",
    "# ---- Map Arizona Subdivisions ----\n",
    "\n",
    "# Set figure parameters\n",
    "fig, ax = plt.subplots(figsize=(5, 5))\n",
    "\n",
    "# Plot arizona subdivisions\n",
    "arizona_sds.plot(ax=ax, color='#003B4A', edgecolor='white', linewidth = 0.2)\n",
    "\n",
    "# Plot phoenix subdivision\n",
    "phoenix.plot(ax=ax, color='orange', edgecolor='white', linewidth = 0.2)\n",
    "\n",
    "# Remove axes\n",
    "ax.axis('off')\n",
    "\n",
    "# Add a title and display the plot\n",
    "plt.title(\"Arizona Subdivisions\", fontsize=16, color='#003B4A')\n",
    "plt.show()"
   ]
  }
 ],
 "metadata": {
  "kernelspec": {
   "display_name": "Anaconda 3 (EDS220)",
   "language": "python",
   "name": "eds220-env"
  },
  "language_info": {
   "codemirror_mode": {
    "name": "ipython",
    "version": 3
   },
   "file_extension": ".py",
   "mimetype": "text/x-python",
   "name": "python",
   "nbconvert_exporter": "python",
   "pygments_lexer": "ipython3",
   "version": "3.11.4"
  }
 },
 "nbformat": 4,
 "nbformat_minor": 5
}
