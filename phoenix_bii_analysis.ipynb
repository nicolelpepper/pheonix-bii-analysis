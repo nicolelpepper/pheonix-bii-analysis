{
 "cells": [
  {
   "cell_type": "markdown",
   "id": "f80a7828-a0b9-4abc-8094-b7c678b1e56e",
   "metadata": {},
   "source": [
    "*UCSB MEDS* - *EDS 220 - Working With Environmental Datasets in Python*\n",
    "\n",
    "# Pheonix Biodiversity Intactness Index Analysis\n",
    "### Mapping ......\n",
    "\n",
    "![Python](https://img.shields.io/badge/Python-cornflowerblue?style=for-the-badge&logo=R) ![Remote Sensing](https://img.shields.io/badge/Remote_Sensing-green?style=for-the-badge) ![GIS](https://img.shields.io/badge/GIS-purple?style=for-the-badge)  ![UCSB MEDS](https://img.shields.io/badge/UCSB%20MEDS-blue?style=for-the-badge) \n",
    "\n",
    "**Author:** Nicole Pepper\n",
    "\n",
    "<div style=\"text-align: left;\">\n",
    "  <img src=\"images/houston-lights.jpg\" alt=\"Image\" width=\"900\">\n",
    "\n",
    "### About the Repo:\n",
    "This notebook investigates the impacts of urban expansion by analyzing a dataset that captures values for the [Biodiversity Intactness Index (BII)](https://ai4edatasetspublicassets.blob.core.windows.net/assets/pdfs/io-biodiversity/Biodiversity_Intactness_whitepaper.pdf). [In 2021, Maricopa County —home to the Phoenix metropolitan area— was identified as the U.S. county with the most significant increase in developed land since 2001](https://www.washingtonpost.com/nation/interactive/2021/land-development-urban-growth-maps/). This rapid urban sprawl has profound implications for biodiversity and the health of surrounding natural ecosystems. I examine changes in BII in the Phoenix county subdivision area between 2017 and 2020, shedding light on how urban growth affects biodiversity over time.\n",
    "\n",
    "### Technical Highlights:\n",
    "- Programming in Python using `Jupyter Lab`\n",
    "- Data retreival from Microsoft STAC catalog with `pystac_client`\n",
    "- Vector data wrangling with `gpd`\n",
    "- Raster data wrangling with `rioxarray` and `xarray`\n",
    "- Data visualization with `matplotlib`\n",
    "- Creating a map gif with `geogif`\n",
    "    \n",
    "### Data Descriptions:\n",
    "\n",
    "- The `Biodiversity Intactness Index (BII) Time Series` data is a collection of ...... It is from ..... I accessed the data using the `io-biodviersity` collection from the [Microsoft Planetary Computer STAC catalog](https://planetarycomputer.microsoft.com/dataset/io-biodiversity). I use the 2017 and 2020 rasters covering the Pheonix subdivision.\n",
    "\n",
    "- The `Pheonix Subdivision Shapefile` data is a shapefile containing the perimeters of the Pheonix metro area. It is a subset of the Census County Subdivision shapefiles for Arizona. The data is a subset of Census County Subdivision shapefiles from the [U.S. Census Bureau](https://www.census.gov/programs-surveys/acs) from 2020 for Arizona. I accessed it on the [U.S. Census Bureau website](https://www.census.gov/cgi-bin/geo/shapefiles/index.php?year=2020&layergroup=County+Subdivisions)."
   ]
  },
  {
   "cell_type": "markdown",
   "id": "a8badd31-c21d-44bf-aec7-4c5ecae7e223",
   "metadata": {},
   "source": [
    "# 1. Set Up Workspace"
   ]
  },
  {
   "cell_type": "markdown",
   "id": "dacc6ea1-b863-4e62-87f8-cdc0f5c072cf",
   "metadata": {},
   "source": [
    "### 1a. Load libraries"
   ]
  },
  {
   "cell_type": "code",
   "execution_count": 3,
   "id": "41dfc4ef-6408-473d-b8c5-f1ce15062b80",
   "metadata": {
    "tags": []
   },
   "outputs": [],
   "source": [
    "# ---- Load libraries ----\n",
    "import pandas as pd\n",
    "import numpy as np\n",
    "import matplotlib.pyplot as plt\n",
    "import geopandas as gpd\n",
    "import rioxarray as rioxr\n",
    "from pystac_client import Client  # To access STAC catalogs\n",
    "import planetary_computer  # To sign items from the MPC STAC catalog \n",
    "from IPython.display import Image  # To nicely display images\n",
    "from geogif import gif\n",
    "from shapely.geometry import box\n",
    "import xarray as xr\n",
    "import os\n",
    "from IPython.display import Image, display, HTML # for visualizing images"
   ]
  },
  {
   "cell_type": "markdown",
   "id": "bad0dbc3-480f-4726-8c23-62c18dc0d5e7",
   "metadata": {},
   "source": [
    "### 1b. Read in Project Data"
   ]
  },
  {
   "cell_type": "code",
   "execution_count": 5,
   "id": "3f2e31ca-bb55-407f-8c1f-760ded1fbca1",
   "metadata": {
    "tags": []
   },
   "outputs": [],
   "source": [
    "# ----- Read in Phoenix subdivision boundary ------\n",
    "\n",
    "# Read in Arizona subdivisions data\n",
    "arizona_sds = gpd.read_file(\"data/tl_2020_04_cousub.shp\")\n",
    "\n",
    "# Subset to phoenix\n",
    "phoenix = arizona_sds[arizona_sds['NAME'] == 'Phoenix']\n"
   ]
  },
  {
   "cell_type": "code",
   "execution_count": 6,
   "id": "eca29e7d-b6a2-4b9f-9a1a-655014fe84e1",
   "metadata": {
    "tags": []
   },
   "outputs": [
    {
     "name": "stdout",
     "output_type": "stream",
     "text": [
      "Found 2 items matching the criteria.\n",
      "bii_2017_34.74464974521749_-115.38597824385106_cog\n",
      "bii_2020_34.74464974521749_-115.38597824385106_cog\n"
     ]
    }
   ],
   "source": [
    "# ----- Read in bii data ------\n",
    "\n",
    "# Define Pheonix bbox\n",
    "\n",
    "bbox = [-112.826843, 32.974108, -111.184387, 33.863574]\n",
    "\n",
    "# ----- Access MPC catalog ------\n",
    "\n",
    "# Access MPC catalog\n",
    "catalog = Client.open(\n",
    "    \"https://planetarycomputer.microsoft.com/api/stac/v1\",\n",
    "    modifier=planetary_computer.sign_inplace,\n",
    ")\n",
    "\n",
    "# Access MPC collections as a list\n",
    "catalog.get_collections()\n",
    "collections = list(catalog.get_collections())\n",
    "\n",
    "\n",
    "# Define temporal range for 2017 and 2020\n",
    "time_ranges = [\"2017-01-01/2017-12-31\", \"2020-01-01/2020-12-31\"]\n",
    "\n",
    "# Initialize an empty list to collect items\n",
    "items = []\n",
    "\n",
    "# Define for loop to iterate search for both time ranges\n",
    "for time_range in time_ranges:\n",
    "    search = catalog.search(\n",
    "        collections=[\"io-biodiversity\"],\n",
    "        bbox=bbox,\n",
    "        datetime=time_range\n",
    "    )\n",
    "    items.extend(list(search.items()))\n",
    "\n",
    "# Print summary of found items\n",
    "print(f\"Found {len(items)} items matching the criteria.\")\n",
    "\n",
    "# Separate 2017 and 2020 images    \n",
    "phoenix_2017_item = items[0]\n",
    "phoenix_2020_item = items[1]\n",
    "\n",
    "print(phoenix_2017_item.id)\n",
    "print(phoenix_2020_item.id)\n",
    "\n",
    "# ---- Retreive BII data from items ----\n",
    "\n",
    "# Get 2017 Phoenix data\n",
    "phoenix_2017 = phoenix_2017_item.assets[\"data\"]\n",
    "\n",
    "phoenix_2017 = rioxr.open_rasterio(phoenix_2017.href)\n",
    "\n",
    "# Get 2020 Phoenix data\n",
    "\n",
    "phoenix_2020 = phoenix_2020_item.assets[\"data\"]\n",
    "\n",
    "phoenix_2020 = rioxr.open_rasterio(phoenix_2020.href)"
   ]
  },
  {
   "cell_type": "markdown",
   "id": "277535c4-489f-430f-b0ac-41242c7ab383",
   "metadata": {},
   "source": [
    "# 2. Prepare and Explore Preliminary Data"
   ]
  },
  {
   "cell_type": "markdown",
   "id": "fa65e98e-16d1-45f1-a677-ef79323338d9",
   "metadata": {
    "tags": []
   },
   "source": [
    "### 2a. Check CRS"
   ]
  },
  {
   "cell_type": "code",
   "execution_count": 8,
   "id": "98583de1-9a1d-4159-a8c7-3edaa8d3730f",
   "metadata": {},
   "outputs": [
    {
     "name": "stdout",
     "output_type": "stream",
     "text": [
      "The BII CRS is: EPSG:4326\n",
      "The phoenix CRS is: WGS 84\n"
     ]
    }
   ],
   "source": [
    "# ---- Check CRS ----\n",
    "\n",
    "# Set CRS to WGS 84 to match MPC data\n",
    "phoenix = phoenix.to_crs(\"EPSG:4326\")\n",
    "\n",
    "# Print the crs name \n",
    "print(\"The BII CRS is:\", phoenix_2017.rio.crs)\n",
    "\n",
    "# Print the crs name\n",
    "print(\"The phoenix CRS is:\", phoenix.crs.name)"
   ]
  },
  {
   "cell_type": "markdown",
   "id": "f13dc214-7eb1-479e-a3c9-dd3b296b7084",
   "metadata": {},
   "source": [
    "### 2b. Clip BII data to the Phoenix boundary"
   ]
  },
  {
   "cell_type": "code",
   "execution_count": 9,
   "id": "6c7ecd2d-b001-491b-8d3d-7bc32101a818",
   "metadata": {
    "tags": []
   },
   "outputs": [],
   "source": [
    "# ---- Clip BII to Phoenix boundary ----\n",
    "phoenix_2017_clipped = phoenix_2017.rio.clip(phoenix.geometry, phoenix.crs, drop=True)\n",
    "phoenix_2020_clipped = phoenix_2020.rio.clip(phoenix.geometry, phoenix.crs, drop=True)"
   ]
  },
  {
   "cell_type": "markdown",
   "id": "6a87f97d-3c25-4360-b880-851465c8b707",
   "metadata": {},
   "source": [
    "### 2c. Visualize Preliminary Phoenix Subdivision Data"
   ]
  },
  {
   "cell_type": "code",
   "execution_count": 11,
   "id": "b509d61c-6595-4805-8f9a-1c1eece7ec00",
   "metadata": {
    "tags": []
   },
   "outputs": [
    {
     "data": {
      "image/png": "[encoded data removed]",
      "text/plain": [
       "<Figure size 500x500 with 1 Axes>"
      ]
     },
     "metadata": {},
     "output_type": "display_data"
    }
   ],
   "source": [
    "# ---- Map Arizona Subdivisions ----\n",
    "\n",
    "# Set figure parameters\n",
    "fig, ax = plt.subplots(figsize=(5, 5))\n",
    "\n",
    "# Plot arizona subdivisions\n",
    "arizona_sds.plot(ax=ax, color='#003B4A', edgecolor='white', linewidth = 0.2)\n",
    "\n",
    "# Plot phoenix subdivision\n",
    "phoenix.plot(ax=ax, color='#67A32F', edgecolor='white', linewidth = 0.2)\n",
    "\n",
    "# Remove axes\n",
    "ax.axis('off')\n",
    "\n",
    "# Add a title and display the plot\n",
    "plt.title(\"Arizona Subdivisions\", fontsize=16, color='#003B4A')\n",
    "plt.show()"
   ]
  },
  {
   "cell_type": "markdown",
   "id": "57440a7e-da33-4101-9cfd-96233f422688",
   "metadata": {},
   "source": [
    "### 2d. Visualize Preliminary Phoenix Subdivision Data"
   ]
  },
  {
   "cell_type": "code",
   "execution_count": 12,
   "id": "1481856c-5108-4472-8103-80507b348553",
   "metadata": {
    "tags": []
   },
   "outputs": [
    {
     "data": {
      "text/html": [
       "\n",
       "    <div style=\"display: flex; justify-content: space-between; align-items: center; gap: 20px;\">\n",
       "        <div style=\"text-align: center;\">\n",
       "            <p><strong>Phoenix BII 2017</strong></p>\n",
       "            <img src=\"https://planetarycomputer.microsoft.com/api/data/v1/item/preview.png?collection=io-biodiversity&item=bii_2017_34.74464974521749_-115.38597824385106_cog&assets=data&tile_format=png&colormap_name=io-bii&rescale=0%2C1&expression=0.97%2A%28data_b1%2A%2A3.84%29&format=png\" width=\"400\" />\n",
       "        </div>\n",
       "        <div style=\"text-align: center;\">\n",
       "            <p><strong>Phoenix BII 2020</strong></p>\n",
       "            <img src=\"https://planetarycomputer.microsoft.com/api/data/v1/item/preview.png?collection=io-biodiversity&item=bii_2020_34.74464974521749_-115.38597824385106_cog&assets=data&tile_format=png&colormap_name=io-bii&rescale=0%2C1&expression=0.97%2A%28data_b1%2A%2A3.84%29&format=png\" width=\"400\" />\n",
       "        </div>\n",
       "    </div>\n"
      ],
      "text/plain": [
       "<IPython.core.display.HTML object>"
      ]
     },
     "metadata": {},
     "output_type": "display_data"
    }
   ],
   "source": [
    "# Define URLs for the 2017 and 2020 images\n",
    "phoenix_2017_url = phoenix_2017_item.assets['rendered_preview'].href\n",
    "phoenix_2020_url = phoenix_2020_item.assets['rendered_preview'].href\n",
    "\n",
    "# Display images for 2017 and 2020 next to eachother\n",
    "display(HTML(f\"\"\"\n",
    "    <div style=\"display: flex; justify-content: space-between; align-items: center; gap: 20px;\">\n",
    "        <div style=\"text-align: center;\">\n",
    "            <p><strong>Phoenix BII 2017</strong></p>\n",
    "            <img src=\"{phoenix_2017_url}\" width=\"400\" />\n",
    "        </div>\n",
    "        <div style=\"text-align: center;\">\n",
    "            <p><strong>Phoenix BII 2020</strong></p>\n",
    "            <img src=\"{phoenix_2020_url}\" width=\"400\" />\n",
    "        </div>\n",
    "    </div>\n",
    "\"\"\"))\n"
   ]
  },
  {
   "cell_type": "markdown",
   "id": "f88bae6b-269c-44f4-b74a-c4d1df4d81ee",
   "metadata": {},
   "source": [
    "# 3. Calculate the Percentage of Area of the Phoenix Subdivision with a BII of at least 0.75 for 2017 and 2018"
   ]
  },
  {
   "cell_type": "markdown",
   "id": "434fa8d0-2d89-4926-8195-d27e43796a51",
   "metadata": {},
   "source": [
    "### 3a. Reclassify Data for Threshold Where *BII > 0.75*"
   ]
  },
  {
   "cell_type": "code",
   "execution_count": 13,
   "id": "082e0b2d-2663-4a44-93ae-776b707a0726",
   "metadata": {
    "tags": []
   },
   "outputs": [
    {
     "name": "stdout",
     "output_type": "stream",
     "text": [
      "2017 Value Counts: {0: 553037, 1: 24133}\n",
      "2020 Value Counts: {0: 555184, 1: 21986}\n"
     ]
    }
   ],
   "source": [
    "# ---- Reclassify data ----\n",
    "def reclassify_data(data, threshold):\n",
    "    reclassified = xr.where(data > threshold, 1, 0)\n",
    "    return reclassified\n",
    "\n",
    "# Reclassify data for 2017 and 2020\n",
    "phoenix_2017_reclassified = reclassify_data(phoenix_2017_clipped.sel(band=1), 0.75)\n",
    "phoenix_2020_reclassified = reclassify_data(phoenix_2020_clipped.sel(band=1), 0.75)"
   ]
  },
  {
   "cell_type": "markdown",
   "id": "9b4c76b3-ffd4-4886-8794-1e5d6d60b33e",
   "metadata": {},
   "source": [
    "### 3b. Calculate Percent Area for 2017 & 2020"
   ]
  },
  {
   "cell_type": "code",
   "execution_count": null,
   "id": "1a0849f9-1d47-42a2-aba9-5cf8d02affd8",
   "metadata": {},
   "outputs": [],
   "source": [
    "# ---- Value Counts ----\n",
    "values_2017, counts_2017 = np.unique(phoenix_2017_reclassified.values, return_counts=True)\n",
    "values_2020, counts_2020 = np.unique(phoenix_2020_reclassified.values, return_counts=True)\n",
    "\n",
    "print(\"2017 Value Counts:\", dict(zip(values_2017, counts_2017)))\n",
    "print(\"2020 Value Counts:\", dict(zip(values_2020, counts_2020)))"
   ]
  },
  {
   "cell_type": "markdown",
   "id": "8f40b2e3-e1d0-440d-a202-d02ecb510504",
   "metadata": {},
   "source": [
    "# 4. Create a Map that Highlights Regions Where BII > 0.75 in 2017 Were Lost By 2020"
   ]
  },
  {
   "cell_type": "markdown",
   "id": "4a3c3f00-778d-4ea4-81e7-a6535bc9e3fb",
   "metadata": {},
   "source": [
    "### 4a. Find Where 2017 *BII > 0.75* Was Lost By 2020"
   ]
  },
  {
   "cell_type": "markdown",
   "id": "d6bc8905-a566-481c-8d27-4b9ffbfd242e",
   "metadata": {},
   "source": [
    "### 4b. Map Where 2017 *BII > 0.75* Was Lost By 2020"
   ]
  },
  {
   "cell_type": "code",
   "execution_count": null,
   "id": "937638a5-f1a6-4266-a4e2-fb914d131040",
   "metadata": {},
   "outputs": [],
   "source": []
  }
 ],
 "metadata": {
  "kernelspec": {
   "display_name": "Anaconda 3 (EDS220)",
   "language": "python",
   "name": "eds220-env"
  },
  "language_info": {
   "codemirror_mode": {
    "name": "ipython",
    "version": 3
   },
   "file_extension": ".py",
   "mimetype": "text/x-python",
   "name": "python",
   "nbconvert_exporter": "python",
   "pygments_lexer": "ipython3",
   "version": "3.11.4"
  }
 },
 "nbformat": 4,
 "nbformat_minor": 5
}
